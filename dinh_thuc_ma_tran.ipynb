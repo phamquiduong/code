{
 "cells": [
  {
   "cell_type": "code",
   "execution_count": 29,
   "metadata": {},
   "outputs": [],
   "source": [
    "ma_tran: list[list[float]] = [\n",
    "    [1, 2, 5, 6],\n",
    "    [5, 7, 8, 9],\n",
    "    [7, 5, 1, 2],\n",
    "    [3, 8, 1, 7],\n",
    "]"
   ]
  },
  {
   "cell_type": "code",
   "execution_count": 30,
   "metadata": {},
   "outputs": [],
   "source": [
    "ma_tran: list[list[float]] = [\n",
    "    [2, 3, -1, 4],\n",
    "    [1, -1, 2, 1],\n",
    "    [3, 2, 1, -1],\n",
    "    [4, 1, 3, 2,],\n",
    "]"
   ]
  },
  {
   "cell_type": "code",
   "execution_count": 31,
   "metadata": {},
   "outputs": [],
   "source": [
    "he_so_dinh_thuc: int = 1"
   ]
  },
  {
   "cell_type": "code",
   "execution_count": 32,
   "metadata": {},
   "outputs": [],
   "source": [
    "def doi_hang_ma_tran(ma_tran: list[list[float]], hang_chuan: int) -> tuple[list[list[float]], bool]:\n",
    "    co_dao = False\n",
    "\n",
    "    for hang in range(hang_chuan+1, len(ma_tran)):\n",
    "        if ma_tran[hang][hang_chuan] != 0:\n",
    "            hang_tam = ma_tran[hang_chuan]\n",
    "            ma_tran[hang_chuan] = ma_tran[hang]\n",
    "            ma_tran[hang] = hang_tam\n",
    "\n",
    "            co_dao = True\n",
    "            break\n",
    "\n",
    "    return ma_tran, co_dao"
   ]
  },
  {
   "cell_type": "code",
   "execution_count": 33,
   "metadata": {},
   "outputs": [],
   "source": [
    "def giam_chieu_ma_tran(ma_tran: list[list[float]], hang_chuan: int, he_so_dinh_thuc: int):\n",
    "    so_chuan: float = ma_tran[hang_chuan][hang_chuan]\n",
    "\n",
    "    if so_chuan == 0:\n",
    "        ma_tran, co_dao = doi_hang_ma_tran(ma_tran, hang_chuan)\n",
    "\n",
    "        if co_dao is False:\n",
    "            return ma_tran, he_so_dinh_thuc\n",
    "\n",
    "        he_so_dinh_thuc *= -1\n",
    "\n",
    "    for hang in range(hang_chuan+1, len(ma_tran)):\n",
    "        delta = -ma_tran[hang][hang_chuan]/so_chuan\n",
    "        for cot in range(hang_chuan, len(ma_tran)):\n",
    "            ma_tran[hang][cot] += round(delta*ma_tran[hang_chuan][cot], 5)  # Fix lỗi dấu phẩy động\n",
    "\n",
    "    return ma_tran, he_so_dinh_thuc"
   ]
  },
  {
   "cell_type": "code",
   "execution_count": 34,
   "metadata": {},
   "outputs": [
    {
     "data": {
      "text/plain": [
       "[[2, 3, -1, 4],\n",
       " [0.0, -2.5, 2.5, -1.0],\n",
       " [0.0, -2.5, 2.5, -7.0],\n",
       " [0.0, -5.0, 5.0, -6.0]]"
      ]
     },
     "execution_count": 34,
     "metadata": {},
     "output_type": "execute_result"
    }
   ],
   "source": [
    "ma_tran, he_so_dinh_thuc = giam_chieu_ma_tran(ma_tran=ma_tran, hang_chuan=0, he_so_dinh_thuc=he_so_dinh_thuc)\n",
    "ma_tran"
   ]
  },
  {
   "cell_type": "code",
   "execution_count": 35,
   "metadata": {},
   "outputs": [
    {
     "data": {
      "text/plain": [
       "[[2, 3, -1, 4],\n",
       " [0.0, -2.5, 2.5, -1.0],\n",
       " [0.0, 0.0, 0.0, -6.0],\n",
       " [0.0, 0.0, 0.0, -4.0]]"
      ]
     },
     "execution_count": 35,
     "metadata": {},
     "output_type": "execute_result"
    }
   ],
   "source": [
    "ma_tran, he_so_dinh_thuc = giam_chieu_ma_tran(ma_tran=ma_tran, hang_chuan=1, he_so_dinh_thuc=he_so_dinh_thuc)\n",
    "ma_tran"
   ]
  },
  {
   "cell_type": "code",
   "execution_count": 36,
   "metadata": {},
   "outputs": [
    {
     "data": {
      "text/plain": [
       "[[2, 3, -1, 4],\n",
       " [0.0, -2.5, 2.5, -1.0],\n",
       " [0.0, 0.0, 0.0, -6.0],\n",
       " [0.0, 0.0, 0.0, -4.0]]"
      ]
     },
     "execution_count": 36,
     "metadata": {},
     "output_type": "execute_result"
    }
   ],
   "source": [
    "ma_tran, he_so_dinh_thuc = giam_chieu_ma_tran(ma_tran=ma_tran, hang_chuan=2, he_so_dinh_thuc=he_so_dinh_thuc)\n",
    "ma_tran"
   ]
  },
  {
   "cell_type": "code",
   "execution_count": 37,
   "metadata": {},
   "outputs": [],
   "source": [
    "def tich_cheo(ma_tran: list[list[float]]) -> float:\n",
    "    ket_qua: float = 1\n",
    "    for hang in range(len(ma_tran)):\n",
    "        ket_qua *= ma_tran[hang][hang]\n",
    "    return ket_qua"
   ]
  },
  {
   "cell_type": "code",
   "execution_count": 38,
   "metadata": {},
   "outputs": [
    {
     "data": {
      "text/plain": [
       "0.0"
      ]
     },
     "execution_count": 38,
     "metadata": {},
     "output_type": "execute_result"
    }
   ],
   "source": [
    "tich_cheo(ma_tran=ma_tran)*he_so_dinh_thuc"
   ]
  }
 ],
 "metadata": {
  "kernelspec": {
   "display_name": "Python 3",
   "language": "python",
   "name": "python3"
  },
  "language_info": {
   "codemirror_mode": {
    "name": "ipython",
    "version": 3
   },
   "file_extension": ".py",
   "mimetype": "text/x-python",
   "name": "python",
   "nbconvert_exporter": "python",
   "pygments_lexer": "ipython3",
   "version": "3.13.2"
  }
 },
 "nbformat": 4,
 "nbformat_minor": 2
}
