{
 "cells": [
  {
   "cell_type": "code",
   "execution_count": 10,
   "metadata": {},
   "outputs": [],
   "source": [
    "ma_tran: list[list[float]] = [\n",
    "    [1, 2, 5, 6],\n",
    "    [5, 7, 8, 9],\n",
    "    [7, 5, 1, 2],\n",
    "    [3, 8, 1, 7],\n",
    "]"
   ]
  },
  {
   "cell_type": "code",
   "execution_count": 11,
   "metadata": {},
   "outputs": [],
   "source": [
    "def giam_chieu_ma_tran(ma_tran: list[list[float]], hang_chuan: int):\n",
    "    so_chuan: float = ma_tran[hang_chuan][hang_chuan]\n",
    "\n",
    "    for hang in range(hang_chuan+1, len(ma_tran)):\n",
    "        delta = -ma_tran[hang][hang_chuan]/so_chuan\n",
    "        for cot in range(hang_chuan, len(ma_tran)):\n",
    "            ma_tran[hang][cot] += round(delta*ma_tran[hang_chuan][cot], 5)  # Fix lỗi dấu phẩy động\n",
    "\n",
    "    return ma_tran"
   ]
  },
  {
   "cell_type": "code",
   "execution_count": 12,
   "metadata": {},
   "outputs": [
    {
     "data": {
      "text/plain": [
       "[[1, 2, 5, 6],\n",
       " [0.0, -3.0, -17.0, -21.0],\n",
       " [0.0, -9.0, -34.0, -40.0],\n",
       " [0.0, 2.0, -14.0, -11.0]]"
      ]
     },
     "execution_count": 12,
     "metadata": {},
     "output_type": "execute_result"
    }
   ],
   "source": [
    "ma_tran = giam_chieu_ma_tran(ma_tran=ma_tran, hang_chuan=0)\n",
    "ma_tran"
   ]
  },
  {
   "cell_type": "code",
   "execution_count": 13,
   "metadata": {},
   "outputs": [
    {
     "data": {
      "text/plain": [
       "[[1, 2, 5, 6],\n",
       " [0.0, -3.0, -17.0, -21.0],\n",
       " [0.0, 0.0, 17.0, 23.0],\n",
       " [0.0, 0.0, -25.33333, -25.0]]"
      ]
     },
     "execution_count": 13,
     "metadata": {},
     "output_type": "execute_result"
    }
   ],
   "source": [
    "ma_tran = giam_chieu_ma_tran(ma_tran=ma_tran, hang_chuan=1)\n",
    "ma_tran"
   ]
  },
  {
   "cell_type": "code",
   "execution_count": 14,
   "metadata": {},
   "outputs": [
    {
     "data": {
      "text/plain": [
       "[[1, 2, 5, 6],\n",
       " [0.0, -3.0, -17.0, -21.0],\n",
       " [0.0, 0.0, 17.0, 23.0],\n",
       " [0.0, 0.0, 0.0, 9.27451]]"
      ]
     },
     "execution_count": 14,
     "metadata": {},
     "output_type": "execute_result"
    }
   ],
   "source": [
    "ma_tran = giam_chieu_ma_tran(ma_tran=ma_tran, hang_chuan=2)\n",
    "ma_tran"
   ]
  },
  {
   "cell_type": "code",
   "execution_count": 15,
   "metadata": {},
   "outputs": [],
   "source": [
    "def tich_cheo(ma_tran: list[list[float]]) -> float:\n",
    "    ket_qua: float = 1\n",
    "    for hang in range(len(ma_tran)):\n",
    "        ket_qua *= ma_tran[hang][hang]\n",
    "    return ket_qua"
   ]
  },
  {
   "cell_type": "code",
   "execution_count": 16,
   "metadata": {},
   "outputs": [
    {
     "data": {
      "text/plain": [
       "-473.00001"
      ]
     },
     "execution_count": 16,
     "metadata": {},
     "output_type": "execute_result"
    }
   ],
   "source": [
    "tich_cheo(ma_tran=ma_tran)"
   ]
  }
 ],
 "metadata": {
  "kernelspec": {
   "display_name": "Python 3",
   "language": "python",
   "name": "python3"
  },
  "language_info": {
   "codemirror_mode": {
    "name": "ipython",
    "version": 3
   },
   "file_extension": ".py",
   "mimetype": "text/x-python",
   "name": "python",
   "nbconvert_exporter": "python",
   "pygments_lexer": "ipython3",
   "version": "3.13.2"
  }
 },
 "nbformat": 4,
 "nbformat_minor": 2
}
